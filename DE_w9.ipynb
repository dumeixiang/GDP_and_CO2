{
  "nbformat": 4,
  "nbformat_minor": 0,
  "metadata": {
    "colab": {
      "provenance": [],
      "gpuType": "T4",
      "authorship_tag": "ABX9TyNbB5hF19siyJAiD4045Twn",
      "include_colab_link": true
    },
    "kernelspec": {
      "name": "python3",
      "display_name": "Python 3"
    },
    "language_info": {
      "name": "python"
    },
    "accelerator": "GPU"
  },
  "cells": [
    {
      "cell_type": "markdown",
      "metadata": {
        "id": "view-in-github",
        "colab_type": "text"
      },
      "source": [
        "<a href=\"https://colab.research.google.com/github/dumeixiang/GDP_and_CO2/blob/main/DE_w9.ipynb\" target=\"_parent\"><img src=\"https://colab.research.google.com/assets/colab-badge.svg\" alt=\"Open In Colab\"/></a>"
      ]
    },
    {
      "cell_type": "code",
      "execution_count": null,
      "metadata": {
        "id": "0IUkE1G2KGt3",
        "colab": {
          "base_uri": "https://localhost:8080/"
        },
        "outputId": "69a4f0b4-cbf9-4e80-e6de-7497734b39cd"
      },
      "outputs": [
        {
          "output_type": "execute_result",
          "data": {
            "text/plain": [
              "34.84126666666667"
            ]
          },
          "metadata": {},
          "execution_count": 10
        }
      ],
      "source": [
        "import pandas as pd\n",
        "data= pd.read_csv(\"https://media.githubusercontent.com/media/nickeubank/MIDS_Data/master/World_Development_Indicators/wdi_small_tidy_2015.csv\"\n",
        ")\n",
        "sub_data= data.iloc[:3,:3]\n",
        "top3_ave = sub_data[\"Adolescent fertility rate (births per 1,000 women ages 15-19)\"].mean()\n",
        "top3_ave"
      ]
    }
  ]
}